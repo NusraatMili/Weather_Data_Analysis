{
 "cells": [
  {
   "cell_type": "code",
   "execution_count": 1,
   "metadata": {},
   "outputs": [
    {
     "data": {
      "text/html": [
       "<div>\n",
       "<style scoped>\n",
       "    .dataframe tbody tr th:only-of-type {\n",
       "        vertical-align: middle;\n",
       "    }\n",
       "\n",
       "    .dataframe tbody tr th {\n",
       "        vertical-align: top;\n",
       "    }\n",
       "\n",
       "    .dataframe thead th {\n",
       "        text-align: right;\n",
       "    }\n",
       "</style>\n",
       "<table border=\"1\" class=\"dataframe\">\n",
       "  <thead>\n",
       "    <tr style=\"text-align: right;\">\n",
       "      <th></th>\n",
       "      <th>Date</th>\n",
       "      <th>AvgTemp</th>\n",
       "      <th>MaxTemp</th>\n",
       "      <th>MinTemp</th>\n",
       "      <th>City</th>\n",
       "      <th>Rainfall</th>\n",
       "      <th>Evaporation</th>\n",
       "      <th>Sunshine</th>\n",
       "      <th>WindGustSpeed</th>\n",
       "      <th>WindDir</th>\n",
       "      <th>WindSpeed</th>\n",
       "      <th>Humidity</th>\n",
       "      <th>Air Pressure</th>\n",
       "      <th>Cloud</th>\n",
       "    </tr>\n",
       "  </thead>\n",
       "  <tbody>\n",
       "    <tr>\n",
       "      <th>0</th>\n",
       "      <td>01-02-25</td>\n",
       "      <td>20.7</td>\n",
       "      <td>22.4</td>\n",
       "      <td>19.5</td>\n",
       "      <td>Dhaka</td>\n",
       "      <td>15.6</td>\n",
       "      <td>6.2</td>\n",
       "      <td>0.0</td>\n",
       "      <td>41</td>\n",
       "      <td>S</td>\n",
       "      <td>17</td>\n",
       "      <td>92</td>\n",
       "      <td>1017.6</td>\n",
       "      <td>8</td>\n",
       "    </tr>\n",
       "    <tr>\n",
       "      <th>1</th>\n",
       "      <td>02-02-25</td>\n",
       "      <td>22.4</td>\n",
       "      <td>25.6</td>\n",
       "      <td>19.5</td>\n",
       "      <td>Gazipur</td>\n",
       "      <td>6.0</td>\n",
       "      <td>3.4</td>\n",
       "      <td>2.7</td>\n",
       "      <td>41</td>\n",
       "      <td>W</td>\n",
       "      <td>9</td>\n",
       "      <td>83</td>\n",
       "      <td>1017.9</td>\n",
       "      <td>7</td>\n",
       "    </tr>\n",
       "    <tr>\n",
       "      <th>2</th>\n",
       "      <td>03-02-25</td>\n",
       "      <td>23.5</td>\n",
       "      <td>24.5</td>\n",
       "      <td>21.6</td>\n",
       "      <td>Kishoreganj</td>\n",
       "      <td>6.6</td>\n",
       "      <td>2.4</td>\n",
       "      <td>0.1</td>\n",
       "      <td>41</td>\n",
       "      <td>ESE</td>\n",
       "      <td>17</td>\n",
       "      <td>88</td>\n",
       "      <td>1016.7</td>\n",
       "      <td>7</td>\n",
       "    </tr>\n",
       "    <tr>\n",
       "      <th>3</th>\n",
       "      <td>04-02-25</td>\n",
       "      <td>21.4</td>\n",
       "      <td>22.8</td>\n",
       "      <td>20.2</td>\n",
       "      <td>Manikganj</td>\n",
       "      <td>18.8</td>\n",
       "      <td>2.2</td>\n",
       "      <td>0.0</td>\n",
       "      <td>41</td>\n",
       "      <td>NNE</td>\n",
       "      <td>22</td>\n",
       "      <td>83</td>\n",
       "      <td>1014.2</td>\n",
       "      <td>8</td>\n",
       "    </tr>\n",
       "    <tr>\n",
       "      <th>4</th>\n",
       "      <td>05-02-25</td>\n",
       "      <td>22.5</td>\n",
       "      <td>25.7</td>\n",
       "      <td>19.7</td>\n",
       "      <td>Munshiganj</td>\n",
       "      <td>77.4</td>\n",
       "      <td>4.8</td>\n",
       "      <td>0.0</td>\n",
       "      <td>41</td>\n",
       "      <td>NNE</td>\n",
       "      <td>11</td>\n",
       "      <td>88</td>\n",
       "      <td>1008.3</td>\n",
       "      <td>8</td>\n",
       "    </tr>\n",
       "    <tr>\n",
       "      <th>...</th>\n",
       "      <td>...</td>\n",
       "      <td>...</td>\n",
       "      <td>...</td>\n",
       "      <td>...</td>\n",
       "      <td>...</td>\n",
       "      <td>...</td>\n",
       "      <td>...</td>\n",
       "      <td>...</td>\n",
       "      <td>...</td>\n",
       "      <td>...</td>\n",
       "      <td>...</td>\n",
       "      <td>...</td>\n",
       "      <td>...</td>\n",
       "      <td>...</td>\n",
       "    </tr>\n",
       "    <tr>\n",
       "      <th>195</th>\n",
       "      <td>15-08-25</td>\n",
       "      <td>12.4</td>\n",
       "      <td>18.8</td>\n",
       "      <td>9.4</td>\n",
       "      <td>Gazipur</td>\n",
       "      <td>0.0</td>\n",
       "      <td>4.6</td>\n",
       "      <td>10.7</td>\n",
       "      <td>41</td>\n",
       "      <td>W</td>\n",
       "      <td>22</td>\n",
       "      <td>49</td>\n",
       "      <td>1013.4</td>\n",
       "      <td>1</td>\n",
       "    </tr>\n",
       "    <tr>\n",
       "      <th>196</th>\n",
       "      <td>16-08-25</td>\n",
       "      <td>13.2</td>\n",
       "      <td>18.0</td>\n",
       "      <td>10.5</td>\n",
       "      <td>Kishoreganj</td>\n",
       "      <td>0.0</td>\n",
       "      <td>4.0</td>\n",
       "      <td>9.2</td>\n",
       "      <td>41</td>\n",
       "      <td>W</td>\n",
       "      <td>22</td>\n",
       "      <td>48</td>\n",
       "      <td>1011.8</td>\n",
       "      <td>1</td>\n",
       "    </tr>\n",
       "    <tr>\n",
       "      <th>197</th>\n",
       "      <td>17-08-25</td>\n",
       "      <td>10.4</td>\n",
       "      <td>16.4</td>\n",
       "      <td>6.9</td>\n",
       "      <td>Manikganj</td>\n",
       "      <td>0.0</td>\n",
       "      <td>4.6</td>\n",
       "      <td>10.4</td>\n",
       "      <td>41</td>\n",
       "      <td>W</td>\n",
       "      <td>17</td>\n",
       "      <td>45</td>\n",
       "      <td>1021.9</td>\n",
       "      <td>1</td>\n",
       "    </tr>\n",
       "    <tr>\n",
       "      <th>198</th>\n",
       "      <td>18-08-25</td>\n",
       "      <td>9.2</td>\n",
       "      <td>15.8</td>\n",
       "      <td>5.6</td>\n",
       "      <td>Munshiganj</td>\n",
       "      <td>0.0</td>\n",
       "      <td>3.4</td>\n",
       "      <td>7.6</td>\n",
       "      <td>41</td>\n",
       "      <td>W</td>\n",
       "      <td>20</td>\n",
       "      <td>59</td>\n",
       "      <td>1024.9</td>\n",
       "      <td>6</td>\n",
       "    </tr>\n",
       "    <tr>\n",
       "      <th>199</th>\n",
       "      <td>19-08-25</td>\n",
       "      <td>9.5</td>\n",
       "      <td>17.6</td>\n",
       "      <td>5.3</td>\n",
       "      <td>Narayanganj</td>\n",
       "      <td>0.6</td>\n",
       "      <td>1.8</td>\n",
       "      <td>10.8</td>\n",
       "      <td>41</td>\n",
       "      <td>W</td>\n",
       "      <td>22</td>\n",
       "      <td>65</td>\n",
       "      <td>1028.8</td>\n",
       "      <td>1</td>\n",
       "    </tr>\n",
       "  </tbody>\n",
       "</table>\n",
       "<p>200 rows × 14 columns</p>\n",
       "</div>"
      ],
      "text/plain": [
       "         Date  AvgTemp  MaxTemp  MinTemp         City  Rainfall  Evaporation  \\\n",
       "0    01-02-25     20.7     22.4     19.5        Dhaka      15.6          6.2   \n",
       "1    02-02-25     22.4     25.6     19.5      Gazipur       6.0          3.4   \n",
       "2    03-02-25     23.5     24.5     21.6  Kishoreganj       6.6          2.4   \n",
       "3    04-02-25     21.4     22.8     20.2    Manikganj      18.8          2.2   \n",
       "4    05-02-25     22.5     25.7     19.7   Munshiganj      77.4          4.8   \n",
       "..        ...      ...      ...      ...          ...       ...          ...   \n",
       "195  15-08-25     12.4     18.8      9.4      Gazipur       0.0          4.6   \n",
       "196  16-08-25     13.2     18.0     10.5  Kishoreganj       0.0          4.0   \n",
       "197  17-08-25     10.4     16.4      6.9    Manikganj       0.0          4.6   \n",
       "198  18-08-25      9.2     15.8      5.6   Munshiganj       0.0          3.4   \n",
       "199  19-08-25      9.5     17.6      5.3  Narayanganj       0.6          1.8   \n",
       "\n",
       "     Sunshine  WindGustSpeed WindDir  WindSpeed  Humidity  Air Pressure  Cloud  \n",
       "0         0.0             41       S         17        92        1017.6      8  \n",
       "1         2.7             41       W          9        83        1017.9      7  \n",
       "2         0.1             41     ESE         17        88        1016.7      7  \n",
       "3         0.0             41     NNE         22        83        1014.2      8  \n",
       "4         0.0             41     NNE         11        88        1008.3      8  \n",
       "..        ...            ...     ...        ...       ...           ...    ...  \n",
       "195      10.7             41       W         22        49        1013.4      1  \n",
       "196       9.2             41       W         22        48        1011.8      1  \n",
       "197      10.4             41       W         17        45        1021.9      1  \n",
       "198       7.6             41       W         20        59        1024.9      6  \n",
       "199      10.8             41       W         22        65        1028.8      1  \n",
       "\n",
       "[200 rows x 14 columns]"
      ]
     },
     "execution_count": 1,
     "metadata": {},
     "output_type": "execute_result"
    }
   ],
   "source": [
    "import pandas as pd\n",
    "\n",
    "#read csv file from folder\n",
    "df= pd.read_csv(r\"C:\\Users\\User\\Downloads\\BD_Weather_Data.csv\")\n",
    "df"
   ]
  },
  {
   "cell_type": "markdown",
   "metadata": {},
   "source": [
    "### Find The Hottest Day"
   ]
  },
  {
   "cell_type": "code",
   "execution_count": 2,
   "metadata": {},
   "outputs": [
    {
     "name": "stdout",
     "output_type": "stream",
     "text": [
      "Date: 27-02-25 \n",
      "Temperature: 29.0 °C \n",
      "City: Dhaka\n"
     ]
    }
   ],
   "source": [
    "hottest = df.loc[df[\"MaxTemp\"].idxmax()]\n",
    "\n",
    "print(\"Date:\", hottest[\"Date\"], \"\\nTemperature:\", hottest[\"MaxTemp\"],\"°C\", \"\\nCity:\", hottest[\"City\"])"
   ]
  },
  {
   "cell_type": "markdown",
   "metadata": {},
   "source": [
    "### Find The Coldest Day"
   ]
  },
  {
   "cell_type": "code",
   "execution_count": 3,
   "metadata": {},
   "outputs": [
    {
     "name": "stdout",
     "output_type": "stream",
     "text": [
      "Date: 19-08-25 \n",
      "Temperature: 5.3 °C \n",
      "City: Narayanganj\n"
     ]
    }
   ],
   "source": [
    "coldest = df.loc[df[\"MinTemp\"].idxmin()]\n",
    "\n",
    "print(\"Date:\", coldest[\"Date\"], \"\\nTemperature:\", coldest[\"MinTemp\"],\"°C\", \"\\nCity:\", coldest[\"City\"])"
   ]
  },
  {
   "cell_type": "markdown",
   "metadata": {},
   "source": [
    "### Find Monthly Average Temperature"
   ]
  },
  {
   "cell_type": "code",
   "execution_count": 4,
   "metadata": {
    "scrolled": true
   },
   "outputs": [
    {
     "name": "stdout",
     "output_type": "stream",
     "text": [
      "Month\n",
      "April        15.91\n",
      "August       13.50\n",
      "December     15.63\n",
      "February     19.54\n",
      "January      16.01\n",
      "July         11.82\n",
      "June         13.56\n",
      "March        19.18\n",
      "May          13.88\n",
      "November     16.47\n",
      "October      14.61\n",
      "September    14.37\n",
      "Name: AvgTemp, dtype: float64\n"
     ]
    }
   ],
   "source": [
    "# Convert date column to panda Datetime format \n",
    "\n",
    "df[\"Date\"] = pd.to_datetime(df[\"Date\"])\n",
    "\n",
    "\n",
    "# Extract Month Name\n",
    "                            \n",
    "df[\"Month\"] = df[\"Date\"].dt.strftime(\"%B\") \n",
    "\n",
    "\n",
    "# Calculate Monthly Average\n",
    "\n",
    "monthly_avg = df.groupby(\"Month\")[\"AvgTemp\"].mean().round(2)\n",
    "print(monthly_avg)"
   ]
  },
  {
   "cell_type": "markdown",
   "metadata": {},
   "source": [
    "### Plotting Monthly Average Temperature"
   ]
  },
  {
   "cell_type": "code",
   "execution_count": 5,
   "metadata": {},
   "outputs": [
    {
     "data": {
      "image/png": "[encoded data removed]",
      "text/plain": [
       "<Figure size 720x360 with 1 Axes>"
      ]
     },
     "metadata": {
      "needs_background": "light"
     },
     "output_type": "display_data"
    }
   ],
   "source": [
    "import matplotlib.pyplot as plt\n",
    "\n",
    "# Month order list by Calendar \n",
    "month_order = [\"January\", \"February\", \"March\", \"April\", \"May\", \"June\", \n",
    "               \"July\", \"August\", \"September\", \"October\", \"November\", \"December\"]\n",
    "\n",
    "\n",
    "# Reindex monthly_avg to calendar order\n",
    "monthly_avg = monthly_avg.reindex(month_order)\n",
    "\n",
    "\n",
    "# Plot line graph\n",
    "plt.figure(figsize=(10,5))\n",
    "plt.plot(monthly_avg.index, monthly_avg.values, marker='o', color='red')\n",
    "\n",
    "# Labels and title\n",
    "plt.title(\"Average Monthly Temperatures\")\n",
    "plt.xlabel(\"Month\")\n",
    "plt.ylabel(\"Avg Temperature (°C)\")\n",
    "plt.xticks(rotation=45)   # Rotate month names for readability\n",
    "plt.grid(True)\n",
    "plt.show()"
   ]
  },
  {
   "cell_type": "markdown",
   "metadata": {},
   "source": [
    "### Find Seasonal Average Temperature"
   ]
  },
  {
   "cell_type": "code",
   "execution_count": 6,
   "metadata": {},
   "outputs": [
    {
     "name": "stdout",
     "output_type": "stream",
     "text": [
      "Season\n",
      "Autumn         13.79\n",
      "Late Autumn    15.54\n",
      "Rainy          12.67\n",
      "Spring         19.35\n",
      "Summer         14.88\n",
      "Winter         15.82\n",
      "Name: AvgTemp, dtype: float64\n"
     ]
    }
   ],
   "source": [
    "# Define function to map month → season\n",
    "\n",
    "def get_season(month):\n",
    "    if month in [\"December\", \"January\"]:\n",
    "        return \"Winter\"\n",
    "    elif month in ['February','March']:\n",
    "        return \"Spring\"\n",
    "    elif month in ['April','May']:\n",
    "        return \"Summer\"\n",
    "    elif month in ['June','July']:\n",
    "        return \"Rainy\"\n",
    "    elif month in ['August','September']:\n",
    "        return \"Autumn\"\n",
    "    else:  # ['October','November']\n",
    "        return \"Late Autumn\"\n",
    "    \n",
    "\n",
    "df[\"Season\"] = df[\"Month\"].apply(get_season)\n",
    "\n",
    "# Calculate Seasonal Averages\n",
    "seasonal_avg = df.groupby(\"Season\")[\"AvgTemp\"].mean().round(2)\n",
    "print(seasonal_avg)"
   ]
  },
  {
   "cell_type": "markdown",
   "metadata": {},
   "source": [
    "### Plotting Seasonal Average Temperature"
   ]
  },
  {
   "cell_type": "code",
   "execution_count": 7,
   "metadata": {
    "scrolled": true
   },
   "outputs": [
    {
     "data": {
      "image/png": "[encoded data removed]",
      "text/plain": [
       "<Figure size 576x360 with 1 Axes>"
      ]
     },
     "metadata": {
      "needs_background": "light"
     },
     "output_type": "display_data"
    }
   ],
   "source": [
    "season_order = [\"Summer\",\"Rainy\",\"Autumn\",\"Late Autumn\",\"Winter\",\"Spring\"]\n",
    "\n",
    "seasonal_avg = seasonal_avg.reindex(season_order)\n",
    "\n",
    "# Plot seasonal_avg temperature bars\n",
    "plt.figure(figsize=(8,5))\n",
    "plt.bar(season_order, seasonal_avg.values, color=\"orange\")\n",
    "plt.title(\"Average Seasonal Temperatures\")\n",
    "plt.ylabel(\"Avg Temp (°C)\")\n",
    "plt.grid(axis=\"y\", linestyle=\"--\", alpha=0.7)\n",
    "plt.show()"
   ]
  },
  {
   "cell_type": "markdown",
   "metadata": {},
   "source": [
    "###  Find Highest Rainfall"
   ]
  },
  {
   "cell_type": "code",
   "execution_count": 8,
   "metadata": {},
   "outputs": [
    {
     "name": "stdout",
     "output_type": "stream",
     "text": [
      "Date: 2025-05-02 00:00:00 \n",
      "Rainfall: 77.4 \n",
      "City: Munshiganj\n"
     ]
    }
   ],
   "source": [
    "highest_rainfall = df.loc[df[\"Rainfall\"].idxmax()]\n",
    "\n",
    "print(\"Date:\", highest_rainfall[\"Date\"], \"\\nRainfall:\", highest_rainfall[\"Rainfall\"], \"\\nCity:\", highest_rainfall[\"City\"])"
   ]
  },
  {
   "cell_type": "markdown",
   "metadata": {},
   "source": [
    "### Find Lowest Rainfall"
   ]
  },
  {
   "cell_type": "code",
   "execution_count": 9,
   "metadata": {},
   "outputs": [
    {
     "name": "stdout",
     "output_type": "stream",
     "text": [
      "Date: 2025-11-02 00:00:00 \n",
      "Rainfall: 0.0 \n",
      "City: Madaripur\n"
     ]
    }
   ],
   "source": [
    "lowest_rainfall = df.loc[df[\"Rainfall\"].idxmin()]\n",
    "\n",
    "print(\"Date:\", lowest_rainfall[\"Date\"], \"\\nRainfall:\", lowest_rainfall[\"Rainfall\"], \"\\nCity:\", lowest_rainfall[\"City\"])"
   ]
  },
  {
   "cell_type": "markdown",
   "metadata": {},
   "source": [
    "### Plotting City Wise Average Rainfall "
   ]
  },
  {
   "cell_type": "code",
   "execution_count": 10,
   "metadata": {},
   "outputs": [
    {
     "data": {
      "image/png": "[encoded data removed]",
      "text/plain": [
       "<Figure size 576x360 with 1 Axes>"
      ]
     },
     "metadata": {
      "needs_background": "light"
     },
     "output_type": "display_data"
    }
   ],
   "source": [
    "city_rainfall_avg = df.groupby(\"City\")[\"Rainfall\"].mean()\n",
    "\n",
    "# Plot city_rainfall_avg bars\n",
    "city_rainfall_avg.plot(kind=\"bar\", figsize=(8,5), color=\"skyblue\")\n",
    "\n",
    "# Labels and title\n",
    "plt.title(\"Average Rainfall by City\")\n",
    "plt.xlabel(\"City\")\n",
    "plt.ylabel(\"Average Rainfall (mm)\")\n",
    "plt.xticks(rotation=45)\n",
    "plt.tight_layout()\n",
    "plt.grid(True)\n",
    "plt.show()"
   ]
  },
  {
   "cell_type": "markdown",
   "metadata": {},
   "source": [
    "### Find City Wise Average Temperature & Rainfall "
   ]
  },
  {
   "cell_type": "code",
   "execution_count": 11,
   "metadata": {},
   "outputs": [
    {
     "name": "stdout",
     "output_type": "stream",
     "text": [
      "             AvgTemp  Rainfall\n",
      "City                          \n",
      "Dhaka          16.45      4.06\n",
      "Faridpur       15.65      2.68\n",
      "Gazipur        16.32      2.12\n",
      "Gopalganj      15.08      3.23\n",
      "Kishoreganj    15.44      5.62\n",
      "Madaripur      14.35      2.01\n",
      "Manikganj      14.47      3.38\n",
      "Munshiganj     15.23      7.91\n",
      "Narayanganj    15.05      2.39\n",
      "Narsingdi      15.97      2.41\n",
      "Rajbari        14.68      1.64\n",
      "Shariatpur     15.29      1.64\n",
      "Tangail        16.29      5.25\n"
     ]
    }
   ],
   "source": [
    "city_stats = df.groupby(\"City\").agg({\n",
    "    \"AvgTemp\": \"mean\",     # average temperature\n",
    "    \"Rainfall\": \"mean\"      # total rainfall\n",
    "}).round(2)\n",
    "\n",
    "print(city_stats)"
   ]
  },
  {
   "cell_type": "markdown",
   "metadata": {},
   "source": [
    "### Plotting City Wise Average Temperature & Rainfall "
   ]
  },
  {
   "cell_type": "code",
   "execution_count": 12,
   "metadata": {},
   "outputs": [
    {
     "data": {
      "image/png": "[encoded data removed]",
      "text/plain": [
       "<Figure size 720x432 with 1 Axes>"
      ]
     },
     "metadata": {
      "needs_background": "light"
     },
     "output_type": "display_data"
    }
   ],
   "source": [
    "import numpy as np\n",
    "\n",
    "# Get City Names\n",
    "cities = city_stats.index\n",
    "\n",
    "# Values\n",
    "temps = city_stats[\"AvgTemp\"]\n",
    "rain = city_stats[\"Rainfall\"]\n",
    "\n",
    "# X positions\n",
    "x = np.arange(len(cities))\n",
    "width = 0.4  # width of each bar\n",
    "\n",
    "# Create subplots\n",
    "fig, ax1 = plt.subplots(figsize=(10,6))\n",
    "\n",
    "# Plot temperature bars\n",
    "ax1.bar(x - width/2, temps, width, label=\"Avg Temperature (°C)\", color=\"orange\")\n",
    "\n",
    "# Plot rainfall bars\n",
    "ax1.bar(x + width/2, rain, width, label=\"Avg Rainfall (mm)\", color=\"blue\")\n",
    "\n",
    "# Labels and title\n",
    "ax1.set_xticks(x)\n",
    "ax1.set_xticklabels(cities, rotation=45)\n",
    "ax1.set_ylabel(\"Values\")\n",
    "ax1.set_title(\"City-wise Temperature vs Rainfall\")\n",
    "plt.grid(axis=\"y\", linestyle=\"--\", alpha=0.7)\n",
    "ax1.legend()\n",
    "plt.tight_layout()\n",
    "plt.show()\n"
   ]
  },
  {
   "cell_type": "markdown",
   "metadata": {},
   "source": [
    "### Find Seasonal Average Rainfall & Plotting that.."
   ]
  },
  {
   "cell_type": "code",
   "execution_count": 13,
   "metadata": {},
   "outputs": [
    {
     "name": "stdout",
     "output_type": "stream",
     "text": [
      "Season\n",
      "Autumn         4.49\n",
      "Late Autumn    2.69\n",
      "Rainy          2.15\n",
      "Spring         2.62\n",
      "Summer         5.20\n",
      "Winter         3.89\n",
      "Name: Rainfall, dtype: float64\n"
     ]
    },
    {
     "data": {
      "image/png": "[encoded data removed]",
      "text/plain": [
       "<Figure size 576x360 with 1 Axes>"
      ]
     },
     "metadata": {
      "needs_background": "light"
     },
     "output_type": "display_data"
    }
   ],
   "source": [
    "#Get Average Rainfall\n",
    "seasonal_avg = df.groupby(\"Season\")[\"Rainfall\"].mean().round(2)\n",
    "print(seasonal_avg)\n",
    "\n",
    "seasonal_avg = seasonal_avg.reindex(season_order)\n",
    "\n",
    "# Plot average rainfall bars\n",
    "plt.figure(figsize=(8,5))\n",
    "plt.bar(season_order, seasonal_avg.values, color=\"steelblue\")\n",
    "\n",
    "# Labels and title\n",
    "plt.title(\"Average Seasonal Rainfall\")\n",
    "plt.ylabel(\"Avg Rainfall (mm)\")\n",
    "plt.grid(axis=\"y\", linestyle=\"--\", alpha=0.7)\n",
    "plt.show()"
   ]
  }
 ],
 "metadata": {
  "kernelspec": {
   "display_name": "Python 3",
   "language": "python",
   "name": "python3"
  },
  "language_info": {
   "codemirror_mode": {
    "name": "ipython",
    "version": 3
   },
   "file_extension": ".py",
   "mimetype": "text/x-python",
   "name": "python",
   "nbconvert_exporter": "python",
   "pygments_lexer": "ipython3",
   "version": "3.8.3"
  }
 },
 "nbformat": 4,
 "nbformat_minor": 4
}
